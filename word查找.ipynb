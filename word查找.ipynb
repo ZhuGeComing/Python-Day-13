{
 "cells": [
  {
   "cell_type": "code",
   "execution_count": 198,
   "metadata": {},
   "outputs": [],
   "source": [
    "import requests\n",
    "import selenium.webdriver\n",
    "import re\n",
    "import time\n",
    "from bs4 import BeautifulSoup\n",
    "import urllib\n",
    "import docx\n",
    "import random"
   ]
  },
  {
   "cell_type": "code",
   "execution_count": 199,
   "metadata": {},
   "outputs": [],
   "source": [
    "def read_docx(file_name):\n",
    "    doc = docx.Document(file_name)\n",
    "    content = '\\n'.join([para.text for para in doc.paragraphs])\n",
    "    return content"
   ]
  },
  {
   "cell_type": "code",
   "execution_count": 200,
   "metadata": {},
   "outputs": [],
   "source": [
    "def pipei(qqq):\n",
    "    raw = read_docx('new.docx')\n",
    "    qqq = qqq.replace('(', '').replace(')', '')\n",
    "    qqq = qqq.replace('《', '').replace('》', '')\n",
    "    qqq = qqq.replace('*', '').replace('_', '')\n",
    "    qqq = qqq.strip()\n",
    "    try:\n",
    "        temp = re.findall( qqq + '.*?\\n.*?\\n.*?\\n', raw, re.S)[0]\n",
    "        try:\n",
    "            return re.findall( '正确答案.*?\\n', temp, re.S)[0]\n",
    "        except IndexError:\n",
    "            return re.findall( '正确答案.*?\\n', temp, re.S)\n",
    "    except IndexError:\n",
    "        temp = re.findall(qqq + '.*?\\n.*?\\n.*?\\n', raw, re.S)\n",
    "        return re.findall( '正确答案.*?\\n', temp, re.S)"
   ]
  },
  {
   "cell_type": "code",
   "execution_count": 201,
   "metadata": {},
   "outputs": [],
   "source": [
    "def answering(num):\n",
    "    tempquestion = question[num].find('div', class_='div_title_question').text\n",
    "    tempanswer = question[num].find('div', class_='div_table_radio_question').find_all('li')\n",
    "    try:\n",
    "        return pipei(tempquestion[:-5])\n",
    "    except TypeError:\n",
    "        print(tempquestion)\n",
    "        return pipei(tempquestion[:7])\n",
    "#         return 'B'"
   ]
  },
  {
   "cell_type": "code",
   "execution_count": 216,
   "metadata": {
    "scrolled": true
   },
   "outputs": [
    {
     "name": "stdout",
     "output_type": "stream",
     "text": [
      "对学生提出的申诉，学生申诉处理委员会办公室在接到申诉书的同时进行登记，并在(   )工作日内对申诉人的资格和申诉条件进行审查*\n",
      "对学生提出的申诉，学生申诉处理委员会办公室在接到申诉书的同时进行登记，并在(   )工作日内对申诉人的资格和申诉条件进行审查*\n",
      "对学生提出的申诉，学生申诉处理委员会办公室在接到申诉书的同时进行登记，并在(   )工作日内对申诉人的资格和申诉条件进行审查*\n",
      "对学生提出的申诉，学生申诉处理委员会办公室在接到申诉书的同时进行登记，并在(   )工作日内对申诉人的资格和申诉条件进行审查*\n",
      "对学生提出的申诉，学生申诉处理委员会办公室在接到申诉书的同时进行登记，并在(   )工作日内对申诉人的资格和申诉条件进行审查*\n",
      "违反宪法，反对四项基本原则，组织和煽动闹事、破坏安定团结、扰乱社会秩序者，给予(     )处分* 【多选题】\n",
      "违反宪法，反对四项基本原则，组织和煽动闹事、破坏安定团结、扰乱社会秩序者，给予(     )处分* 【多选题】\n",
      "违反宪法，反对四项基本原则，组织和煽动闹事、破坏安定团结、扰乱社会秩序者，给予(     )处分* 【多选题】\n",
      "违反宪法，反对四项基本原则，组织和煽动闹事、破坏安定团结、扰乱社会秩序者，给予(     )处分* 【多选题】\n",
      "违反宪法，反对四项基本原则，组织和煽动闹事、破坏安定团结、扰乱社会秩序者，给予(     )处分* 【多选题】\n",
      "申请学校研究生短期出国(境)访学及开展创新实验项目资助的学生，其外语水平应达到(                )的基本条件*\n",
      "申请学校研究生短期出国(境)访学及开展创新实验项目资助的学生，其外语水平应达到(                )的基本条件*\n",
      "申请学校研究生短期出国(境)访学及开展创新实验项目资助的学生，其外语水平应达到(                )的基本条件*\n",
      "申请学校研究生短期出国(境)访学及开展创新实验项目资助的学生，其外语水平应达到(                )的基本条件*\n",
      "申请学校研究生短期出国(境)访学及开展创新实验项目资助的学生，其外语水平应达到(                )的基本条件*\n",
      "休学学生应当办理休学手续离校，学校是否保留其学籍?*\n",
      "休学学生应当办理休学手续离校，学校是否保留其学籍?*\n",
      "休学学生应当办理休学手续离校，学校是否保留其学籍?*\n",
      "休学学生应当办理休学手续离校，学校是否保留其学籍?*\n",
      "休学学生应当办理休学手续离校，学校是否保留其学籍?*\n",
      "发生学生伤害事故后，有关单位和人员必须立即组织救助受伤害学生，并及时向受伤害学生所在(    )报告* 【多选题】\n",
      "发生学生伤害事故后，有关单位和人员必须立即组织救助受伤害学生，并及时向受伤害学生所在(    )报告* 【多选题】\n",
      "发生学生伤害事故后，有关单位和人员必须立即组织救助受伤害学生，并及时向受伤害学生所在(    )报告* 【多选题】\n",
      "发生学生伤害事故后，有关单位和人员必须立即组织救助受伤害学生，并及时向受伤害学生所在(    )报告* 【多选题】\n",
      "发生学生伤害事故后，有关单位和人员必须立即组织救助受伤害学生，并及时向受伤害学生所在(    )报告* 【多选题】\n",
      "获得学校研究生短期出国(境)访学及开展创新实验项目资助的学生，在访学或创新实验结束后应按期回国。回国(     )内，持评价表、考核表到研究生院办理返校手续*\n",
      "获得学校研究生短期出国(境)访学及开展创新实验项目资助的学生，在访学或创新实验结束后应按期回国。回国(     )内，持评价表、考核表到研究生院办理返校手续*\n",
      "获得学校研究生短期出国(境)访学及开展创新实验项目资助的学生，在访学或创新实验结束后应按期回国。回国(     )内，持评价表、考核表到研究生院办理返校手续*\n",
      "获得学校研究生短期出国(境)访学及开展创新实验项目资助的学生，在访学或创新实验结束后应按期回国。回国(     )内，持评价表、考核表到研究生院办理返校手续*\n",
      "获得学校研究生短期出国(境)访学及开展创新实验项目资助的学生，在访学或创新实验结束后应按期回国。回国(     )内，持评价表、考核表到研究生院办理返校手续*\n",
      "获得学校研究生参加高水平国际学术会议基金资助的学生，会议结束、回校(       )内，向研究生院国际交流办公室提交参加《国际学术会议总结报告》(书面和电子版)、机票及其发票、注册费发票的复印件等材料。*\n",
      "获得学校研究生参加高水平国际学术会议基金资助的学生，会议结束、回校(       )内，向研究生院国际交流办公室提交参加《国际学术会议总结报告》(书面和电子版)、机票及其发票、注册费发票的复印件等材料。*\n",
      "获得学校研究生参加高水平国际学术会议基金资助的学生，会议结束、回校(       )内，向研究生院国际交流办公室提交参加《国际学术会议总结报告》(书面和电子版)、机票及其发票、注册费发票的复印件等材料。*\n",
      "获得学校研究生参加高水平国际学术会议基金资助的学生，会议结束、回校(       )内，向研究生院国际交流办公室提交参加《国际学术会议总结报告》(书面和电子版)、机票及其发票、注册费发票的复印件等材料。*\n",
      "获得学校研究生参加高水平国际学术会议基金资助的学生，会议结束、回校(       )内，向研究生院国际交流办公室提交参加《国际学术会议总结报告》(书面和电子版)、机票及其发票、注册费发票的复印件等材料。*\n",
      "学校每学年在德育课和(    )课中专门安排4-6学时课程对学生进行安全教育*\n",
      "学校每学年在德育课和(    )课中专门安排4-6学时课程对学生进行安全教育*\n",
      "学校每学年在德育课和(    )课中专门安排4-6学时课程对学生进行安全教育*\n",
      "学校每学年在德育课和(    )课中专门安排4-6学时课程对学生进行安全教育*\n",
      "学校每学年在德育课和(    )课中专门安排4-6学时课程对学生进行安全教育*\n",
      "研究生确因特殊情况申请不能在学生公寓住宿，必须填写《西北工业大学研究生不在学生公寓住宿申请表》，经导师、学院同意后，报(      )审批、备案。*\n",
      "研究生确因特殊情况申请不能在学生公寓住宿，必须填写《西北工业大学研究生不在学生公寓住宿申请表》，经导师、学院同意后，报(      )审批、备案。*\n",
      "研究生确因特殊情况申请不能在学生公寓住宿，必须填写《西北工业大学研究生不在学生公寓住宿申请表》，经导师、学院同意后，报(      )审批、备案。*\n",
      "研究生确因特殊情况申请不能在学生公寓住宿，必须填写《西北工业大学研究生不在学生公寓住宿申请表》，经导师、学院同意后，报(      )审批、备案。*\n",
      "研究生确因特殊情况申请不能在学生公寓住宿，必须填写《西北工业大学研究生不在学生公寓住宿申请表》，经导师、学院同意后，报(      )审批、备案。*\n",
      "在考试过程中有下列情况之一者，给予留校察看处分？* 【多选题】\n",
      "在考试过程中有下列情况之一者，给予留校察看处分？* 【多选题】\n",
      "在考试过程中有下列情况之一者，给予留校察看处分？* 【多选题】\n",
      "在考试过程中有下列情况之一者，给予留校察看处分？* 【多选题】\n",
      "在考试过程中有下列情况之一者，给予留校察看处分？* 【多选题】\n",
      "剽窃、抄袭他人研究成果，情节严重、影响恶劣者，给予(     )处分。* 【多选题】\n",
      "剽窃、抄袭他人研究成果，情节严重、影响恶劣者，给予(     )处分。* 【多选题】\n",
      "剽窃、抄袭他人研究成果，情节严重、影响恶劣者，给予(     )处分。* 【多选题】\n",
      "剽窃、抄袭他人研究成果，情节严重、影响恶劣者，给予(     )处分。* 【多选题】\n",
      "剽窃、抄袭他人研究成果，情节严重、影响恶劣者，给予(     )处分。* 【多选题】\n",
      "学生伤害事故处理结束后(      )日内，受伤害学生所在学院应向学生处、党委研究生工作部书面报送学生伤害事故处理结果。*\n",
      "学生伤害事故处理结束后(      )日内，受伤害学生所在学院应向学生处、党委研究生工作部书面报送学生伤害事故处理结果。*\n",
      "学生伤害事故处理结束后(      )日内，受伤害学生所在学院应向学生处、党委研究生工作部书面报送学生伤害事故处理结果。*\n",
      "学生伤害事故处理结束后(      )日内，受伤害学生所在学院应向学生处、党委研究生工作部书面报送学生伤害事故处理结果。*\n",
      "学生伤害事故处理结束后(      )日内，受伤害学生所在学院应向学生处、党委研究生工作部书面报送学生伤害事故处理结果。*\n",
      "公寓管理办公室由(       )组成* 【多选题】\n",
      "公寓管理办公室由(       )组成* 【多选题】\n",
      "公寓管理办公室由(       )组成* 【多选题】\n",
      "公寓管理办公室由(       )组成* 【多选题】\n",
      "公寓管理办公室由(       )组成* 【多选题】\n",
      "研究生按照实际在校时长交纳学费。规定年限内，学费按(  )缴纳；超过规定年限后，学费按(  )缴纳。*\n",
      "研究生按照实际在校时长交纳学费。规定年限内，学费按(  )缴纳；超过规定年限后，学费按(  )缴纳。*\n",
      "研究生按照实际在校时长交纳学费。规定年限内，学费按(  )缴纳；超过规定年限后，学费按(  )缴纳。*\n",
      "研究生按照实际在校时长交纳学费。规定年限内，学费按(  )缴纳；超过规定年限后，学费按(  )缴纳。*\n",
      "研究生按照实际在校时长交纳学费。规定年限内，学费按(  )缴纳；超过规定年限后，学费按(  )缴纳。*\n"
     ]
    }
   ],
   "source": [
    "if __name__ == '__main__':\n",
    "    url = 'https://ks.wjx.top/jq/24386487.aspx'\n",
    "    driver = selenium.webdriver.Firefox()\n",
    "    driver.get(url)\n",
    "    driver.find_element_by_id('txtExt').send_keys('电子信息学院陈子浩')\n",
    "    driver.find_element_by_id('txtpwd').send_keys('2018261752')\n",
    "#     time.sleep(3)\n",
    "    driver.find_element_by_id('btnContinue').click()\n",
    "    html = driver.page_source\n",
    "    soup = BeautifulSoup(html, 'lxml')\n",
    "    question = soup.find_all('div', class_='div_question')\n",
    "    for i in range(100):\n",
    "        if 'A' in answering(i):\n",
    "            driver.find_elements_by_class_name('div_question')[i].find_elements_by_xpath('div/ul/li/a')[0].click()\n",
    "        if 'B' in answering(i):\n",
    "            driver.find_elements_by_class_name('div_question')[i].find_elements_by_xpath('div/ul/li/a')[1].click()\n",
    "        if 'C' in answering(i):\n",
    "            driver.find_elements_by_class_name('div_question')[i].find_elements_by_xpath('div/ul/li/a')[2].click()\n",
    "        if 'D' in answering(i):\n",
    "            driver.find_elements_by_class_name('div_question')[i].find_elements_by_xpath('div/ul/li/a')[3].click()\n",
    "        try:\n",
    "            if 'E' in answering(i):\n",
    "                driver.find_elements_by_class_name('div_question')[i].find_elements_by_xpath('div/ul/li/a')[4].click()\n",
    "        except IndexError:\n",
    "            pass"
   ]
  },
  {
   "cell_type": "code",
   "execution_count": 193,
   "metadata": {},
   "outputs": [
    {
     "data": {
      "text/plain": [
       "'西北工业大学的校风为基础扎实，工作踏实，\\u3000\\u3000，开拓创新。'"
      ]
     },
     "execution_count": 193,
     "metadata": {},
     "output_type": "execute_result"
    }
   ],
   "source": [
    "# mydict = {1:'A',2:'B',3:'C',4:'D',5:'E'}\n",
    "# mydict[1]\n",
    "# random.randint(1,len(tempanswer))\n",
    "word = '西北工业大学的校风为基础扎实，工作踏实，　　，开拓创新。'\n",
    "word"
   ]
  }
 ],
 "metadata": {
  "kernelspec": {
   "display_name": "Python 3",
   "language": "python",
   "name": "python3"
  },
  "language_info": {
   "codemirror_mode": {
    "name": "ipython",
    "version": 3
   },
   "file_extension": ".py",
   "mimetype": "text/x-python",
   "name": "python",
   "nbconvert_exporter": "python",
   "pygments_lexer": "ipython3",
   "version": "3.6.4"
  }
 },
 "nbformat": 4,
 "nbformat_minor": 2
}

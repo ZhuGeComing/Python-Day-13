{
 "cells": [
  {
   "cell_type": "code",
   "execution_count": 1,
   "metadata": {},
   "outputs": [],
   "source": [
    "import time\n",
    "import requests\n",
    "import json"
   ]
  },
  {
   "cell_type": "code",
   "execution_count": null,
   "metadata": {
    "scrolled": true
   },
   "outputs": [],
   "source": [
    "url = 'http://openapi.tuling123.com/openapi/api/v2'\n",
    "s = input('话题：')\n",
    "for _ in range(10):\n",
    "    content =   {\n",
    "        \"reqType\":0,\n",
    "        \"perception\": {\n",
    "            \"inputText\": {\n",
    "                \"text\": s\n",
    "            },\n",
    "            \"selfInfo\": {\n",
    "                \"location\": {\n",
    "                    \"city\": \"西安\",\n",
    "                    \"province\": \"陕西\",\n",
    "                }\n",
    "            }\n",
    "        },\n",
    "        \"userInfo\": {\n",
    "            \"apiKey\": \"6261af9e867e478397e1d4ec42ff311a\",\n",
    "            \"userId\": \"1\"\n",
    "        }\n",
    "    }\n",
    "    req = json.dumps(content).encode('utf8')\n",
    "    # requests.post(url, data = {\"userInfo\": password, \"perception\": {\"inputText\": {\"text\": \"附近的酒店\"}}}).json()\n",
    "    resp = requests.post(url, data = req, headers={'content-type': 'application/json'}).json()\n",
    "    one = resp['results'][0]['values']['text']\n",
    "    print('哥哥：'+ one)\n",
    "    \n",
    "    \n",
    "    content =   {\n",
    "        \"reqType\":0,\n",
    "        \"perception\": {\n",
    "            \"inputText\": {\n",
    "                \"text\": one\n",
    "            },\n",
    "            \"selfInfo\": {\n",
    "                \"location\": {\n",
    "                    \"city\": \"西安\",\n",
    "                    \"province\": \"陕西\",\n",
    "                }\n",
    "            }\n",
    "        },\n",
    "        \"userInfo\": {\n",
    "            \"apiKey\": \"6261af9e867e478397e1d4ec42ff311a\",\n",
    "            \"userId\": \"2\"\n",
    "        }\n",
    "    }\n",
    "    req = json.dumps(content).encode('utf8')\n",
    "    # requests.post(url, data = {\"userInfo\": password, \"perception\": {\"inputText\": {\"text\": \"附近的酒店\"}}}).json()\n",
    "    resp = requests.post(url, data = req, headers={'content-type': 'application/json'}).json()\n",
    "    s = resp['results'][0]['values']['text']\n",
    "    print('妹妹：'+ s)\n"
   ]
  },
  {
   "cell_type": "code",
   "execution_count": 9,
   "metadata": {},
   "outputs": [
    {
     "data": {
      "text/plain": [
       "'西安:周二 07月24日,晴 西风微风,最低气温26度，最高气温39度'"
      ]
     },
     "execution_count": 9,
     "metadata": {},
     "output_type": "execute_result"
    }
   ],
   "source": [
    "import requests\n",
    "import json\n",
    "\n",
    "\n",
    "url = 'http://openapi.tuling123.com/openapi/api/v2'\n",
    "content = {\n",
    "\t\"reqType\":0,\n",
    "    \"perception\": {\n",
    "        \"inputText\": {\n",
    "            \"text\": \"天气怎么样？\"\n",
    "        },\n",
    "        \"inputImage\": {\n",
    "            \"url\": \"imageUrl\"\n",
    "        },\n",
    "        \"selfInfo\": {\n",
    "            \"location\": {\n",
    "                \"city\": \"西安\",\n",
    "                \"province\": \"陕西\"\n",
    "            }\n",
    "        }\n",
    "    },\n",
    "    \"userInfo\": {\n",
    "        \"apiKey\": \"6261af9e867e478397e1d4ec42ff311a\",\n",
    "        \"userId\": \"1\"\n",
    "    }\n",
    "}\n",
    "req = json.dumps(content).encode('utf8')\n",
    "requests.post(url, data=req).json()['results'][0]['values']['text']"
   ]
  }
 ],
 "metadata": {
  "kernelspec": {
   "display_name": "Python 3",
   "language": "python",
   "name": "python3"
  },
  "language_info": {
   "codemirror_mode": {
    "name": "ipython",
    "version": 3
   },
   "file_extension": ".py",
   "mimetype": "text/x-python",
   "name": "python",
   "nbconvert_exporter": "python",
   "pygments_lexer": "ipython3",
   "version": "3.6.4"
  }
 },
 "nbformat": 4,
 "nbformat_minor": 2
}

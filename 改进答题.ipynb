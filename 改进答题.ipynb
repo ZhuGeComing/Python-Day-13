{
 "cells": [
  {
   "cell_type": "code",
   "execution_count": 198,
   "metadata": {},
   "outputs": [],
   "source": [
    "import requests\n",
    "import selenium.webdriver\n",
    "import re\n",
    "import time\n",
    "from bs4 import BeautifulSoup\n",
    "import urllib\n",
    "import docx"
   ]
  },
  {
   "cell_type": "code",
   "execution_count": 188,
   "metadata": {
    "scrolled": true
   },
   "outputs": [],
   "source": [
    "driver = selenium.webdriver.Firefox()\n",
    "driver.get('http://www.baidu.com/')\n",
    "driver.find_element_by_class_name('s_ipt').send_keys('天气')\n",
    "driver.find_element_by_id('su').click()\n",
    "time.sleep(2)\n",
    "cookies = driver.get_cookies()\n",
    "cookies1={}\n",
    "for cookie in cookies:\n",
    "    cookies1[cookie['name']]=cookie['value']"
   ]
  },
  {
   "cell_type": "code",
   "execution_count": 189,
   "metadata": {},
   "outputs": [],
   "source": [
    "def search(key):\n",
    "    key = urllib.request.quote(key)\n",
    "    find = 'http://www.baidu.com/s?wd=' + key\n",
    "    user_agent = \"Mozilla/5.0 (Macintosh; Intel Mac OS X 10_11_6) AppleWebKit/537.36 (KHTML, like Gecko) \" \\\n",
    "                          \"Chrome/55.0.2883.95 Safari/537.36 \"\n",
    "    headers = {'User-Agent': user_agent}\n",
    "    return BeautifulSoup(requests.get(find,headers=headers, cookies=cookies1 ).text, 'lxml')"
   ]
  },
  {
   "cell_type": "code",
   "execution_count": 232,
   "metadata": {
    "scrolled": false
   },
   "outputs": [],
   "source": [
    "def answering(num):\n",
    "    tempquestion = question[num].find('div', class_='div_title_question').text\n",
    "    tempanswer = question[num].find('div', class_='div_table_radio_question').find_all('li')\n",
    "    print(pipei(tempquestion[:10]))\n",
    "    sheet = search(tempquestion)\n",
    "    answersheet = {}\n",
    "    templist = []\n",
    "    for i, item in enumerate(tempanswer):\n",
    "        templist.append(tempanswer[i].text[2:])\n",
    "        answersheet[tempanswer[i].text[2:]] = len(re.findall(tempanswer[i].text[2:], sheet.decode('utf8')))\n",
    "    # sorted(answersheet.items(), key=lambda v: v[1], reverse=True)\n",
    "    print(answersheet)\n",
    "    print('')\n",
    "    print('')\n",
    "    for i,item in enumerate(templist):\n",
    "        if item == max(answersheet,key=answersheet.get):\n",
    "            return(i)"
   ]
  },
  {
   "cell_type": "code",
   "execution_count": 234,
   "metadata": {
    "scrolled": true
   },
   "outputs": [
    {
     "name": "stdout",
     "output_type": "stream",
     "text": [
      "[]\n",
      "None\n",
      "{'国家留学基金委资助出国留学': 1, '学校认定': 0, '六级': 0, '雅思、托福': 0}\n",
      "\n",
      "\n",
      "['课程更改需满足什么条件及办理什么手续？\\n凡列入课程计划中的课程，经批准后必须按计划完成。如因特殊原因确须更改，应在课程任 务书下达前申请更改，经导师同意后，由硕士生所在学院研究生秘书办理，研宄生院复核。 课程更改单存学院，以备申请学位时用。\\n因任课教师调离学校或任课教师外出半年以上而不能开出的课程；\\n.原定向、委托、代培单位因工作需要提出更改的课程 经批准更改研究方向后需要作相应调整的课程\\n']\n",
      "None\n",
      "{'凡列入课程计划中的课程，经批准后必须按计划完成。如因特殊原因确须更改，应在课程任务书下达前申请更改，经导师同意后，由硕士生所在学院研究生秘书办理，研究生院复核。课程更改单存学院，以备申请学位时用。': 0, '因任课教师调离学校或任课教师外出半年以上而不能开出的课程；': 0, '.原定向、委托、代培单位因工作需要提出更改的课程': 0, '经批准更改研究方向后需要作相应调整的课程': 0}\n",
      "\n",
      "\n",
      "['学业奖学金每学年发放一次，分一二两个 等级，普通博士生最长发放次数为\\n4\\n（多选）《西北工业大学研宄生奖助体系政策介绍》：研究生国家奖学金的评定按照国家（） 来执行\\n《研宄生国家奖学金管理暂行办法》\\n']\n",
      "None\n",
      "{'2': 3071, '3': 2348, '4': 4487, '5': 5158}\n",
      "\n",
      "\n",
      "['档案和户口在校的研究生，按学校规定期限办理退学 手续离校，档案、户口如何处置？\\n退回其家庭户籍所在地\\n《西北工业大学学生违纪处分管理办法》：剽窃、抄袭他人研宄成果，情节严重、影响 恶劣者，给予（）处分。\\n开除学籍\\n']\n",
      "None\n",
      "{'继续放在学校': 0, '随身携带': 0, '放到家里': 0, '退回其家庭户籍所在地': 0}\n",
      "\n",
      "\n",
      "['硕博连读的申请条件是什么？\\n学习成绩优异，英语成绩须达到70分以上（含70分），或托福95分、雅思6.5分及以上, 学位必修课加权平均成绩不低于75分。\\n具有较强的科研素质和学术创新能力，在学期间以第一作者身份已发表高水平学术论文，作 为主要成员获得科研成果奖励和学科竞赛奖励，或具有其他突出的学术业绩。\\n不得有学术不端行为记录和违纪处理记录。\\n']\n",
      "None\n",
      "{'学习成绩优异，英语成绩须达到70分以上(含70分)，或托福95分、雅思6.5分及以上，学位必修课加权平均成绩不低于75分。': 0, '具有较强的科研素质和学术创新能力，在学期间以第一作者身份已发表高水平学术论文，作为主要成员获得科研成果奖励和学科竞赛奖励，或具有其他突出的学术业绩。': 0, '不得有学术不端行为记录和违纪处理记录。': 0, '不得有补考科目。': 0}\n",
      "\n",
      "\n",
      "['对符合学位授予条件者，学校应颁发：\\t\\n学位证书\\n《西北工业大学学生管理规定》：组织或者个人是否可以在学校进行宗教活动？\\n否\\n']\n",
      "None\n",
      "{'学位证书': 8, '学历证书': 3, '肄业证书': 0, '结业证书': 0}\n",
      "\n",
      "\n",
      "[]\n",
      "None\n",
      "{'三': 2, '四': 1, '二': 1, '五': 0}\n",
      "\n",
      "\n",
      "['违反国家法律、法规、规章者，以下哪个情 况直接给予开除学籍处分？\\n构成刑事犯罪或者被司法机关裁决并己生效处以劳动教养者\\n（多选）《西北工业大学学生违纪处分管理办法》：在考试过程中有下列情况之一者，给予 留校察看处分？\\n利用文具盒、衣物或其他用品夹带与考试内容相关的材料或物品者 强拿他人试卷、草稿纸或交换试卷者 考试中用各种方式传递答案或纸条者 违反考试规定，使用禁用的电子设备者\\n']\n",
      "None\n",
      "{'构成刑事犯罪或者被司法机关裁决并已生效处以劳动教养者': 0, '被司法机关立案侦查，犯罪事实清楚，但因种种原因被免予刑事处罚或免予起诉者': 0, '被处以治安拘留者': 0, '被处以治安警告活治安罚款者': 0}\n",
      "\n",
      "\n",
      "[]\n",
      "None\n",
      "{'学院': 2, '党委研究生工作部': 0, '学生处': 1, '公安处': 0}\n",
      "\n",
      "\n",
      "[]\n",
      "None\n",
      "{'严重警告': 3, '记过': 5, '警告': 6}\n",
      "\n",
      "\n"
     ]
    }
   ],
   "source": [
    "if __name__ == '__main__':\n",
    "    url = 'https://ks.wjx.top/jq/24386487.aspx'\n",
    "    driver = selenium.webdriver.Firefox()\n",
    "    driver.get(url)\n",
    "    driver.find_element_by_id('txtExt').send_keys('电子信息学院刘恒宇')\n",
    "    driver.find_element_by_id('txtpwd').send_keys('2018261681')\n",
    "    time.sleep(3)\n",
    "    driver.find_element_by_id('btnContinue').click()\n",
    "    html = driver.page_source\n",
    "    soup = BeautifulSoup(html, 'lxml')\n",
    "    question = soup.find_all('div', class_='div_question')\n",
    "    for i in range(10):\n",
    "        driver.find_elements_by_class_name('div_question')[i].find_elements_by_xpath('div/ul/li/a')[answering(i)].click()"
   ]
  },
  {
   "cell_type": "code",
   "execution_count": 199,
   "metadata": {},
   "outputs": [],
   "source": [
    "def read_docx(file_name):\n",
    "    doc = docx.Document(file_name)\n",
    "    content = '\\n'.join([para.text for para in doc.paragraphs])\n",
    "    return content"
   ]
  },
  {
   "cell_type": "code",
   "execution_count": 227,
   "metadata": {},
   "outputs": [],
   "source": [
    "def pipei(qqq):\n",
    "    raw = read_docx('demo.docx')\n",
    "    print(re.findall( qqq + '.*?\\n.*?\\n.*?\\n', raw, re.S))"
   ]
  },
  {
   "cell_type": "code",
   "execution_count": 235,
   "metadata": {},
   "outputs": [
    {
     "data": {
      "text/plain": [
       "{'BAIDUID': '0C973E1CB092F3299E040E6A2F6F7EBE:FG=1',\n",
       " 'BDORZ': 'B490B5EBF6F3CD402E515D22BCDA1598',\n",
       " 'BDSVRTM': '181',\n",
       " 'BD_CK_SAM': '1',\n",
       " 'BD_HOME': '0',\n",
       " 'BD_LAST_QID': '16348314965184109764',\n",
       " 'BD_UPN': '13314352',\n",
       " 'BIDUPSID': '0C973E1CB092F3299E040E6A2F6F7EBE',\n",
       " 'H_PS_645EC': '85ae5zPCwmuK3yQhbGOSThMtE%2B57ZdhdE5sptnNE%2FTLuo4rW4NfFjVP4%2BYo',\n",
       " 'H_PS_PSSID': '1431_25809_21082_18560_26350_20929',\n",
       " 'PSINO': '1',\n",
       " 'PSTM': '1536292947',\n",
       " 'delPer': '0'}"
      ]
     },
     "execution_count": 235,
     "metadata": {},
     "output_type": "execute_result"
    }
   ],
   "source": [
    "cookies1"
   ]
  }
 ],
 "metadata": {
  "kernelspec": {
   "display_name": "Python 3",
   "language": "python",
   "name": "python3"
  },
  "language_info": {
   "codemirror_mode": {
    "name": "ipython",
    "version": 3
   },
   "file_extension": ".py",
   "mimetype": "text/x-python",
   "name": "python",
   "nbconvert_exporter": "python",
   "pygments_lexer": "ipython3",
   "version": "3.6.4"
  }
 },
 "nbformat": 4,
 "nbformat_minor": 2
}
